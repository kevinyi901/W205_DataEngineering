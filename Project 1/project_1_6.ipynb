{
 "cells": [
  {
   "cell_type": "markdown",
   "id": "cd11da2a",
   "metadata": {},
   "source": [
    "# Project 1, Part 6, Identifying Best Customers\n"
   ]
  },
  {
   "cell_type": "markdown",
   "id": "701f1c25",
   "metadata": {},
   "source": [
    "# 1.6 Ideas on how the sales data can be used to help identify best customers\n",
    "\n",
    "The data science team would like to know your best ideas on how the sales data can be used to help identify the company's best customers.\n",
    "\n",
    "\n",
    "\n",
    "They are going to start with the most common and most basic model known as RFM, which consists of the 3 dimensions.\n",
    "\n",
    "* R - Recency - How recently did the customer purchase?\n",
    "\n",
    "* F - Frequency - How often do they purchase?\n",
    "\n",
    "* M - Monetary Value - How much do they spend?\n",
    "\n",
    "\n",
    "\n",
    "At first glance, it's pretty easy to think of a simple query for each dimension.\n",
    "\n",
    "However, after some thought, it's not quite so easy. It's very open ended, with a lot of grey areas, and no single right or wrong answer (just like 99% of data science and AI!)  For each dimension, there can be some pretty complex ways to determine.\n",
    "\n",
    "The data science team also has to come up with a way to synthesize the 3 dimensions into a single customer value for each customer.\n",
    "\n",
    "\n",
    "\n",
    "The data science team would like for you to present your ideas in the form of a title and 4 paragraphs as follows:\n",
    "\n",
    "* Title - A title describing what you will be explaining\n",
    "\n",
    "* Recency - A brief paragraph explaining your ideas on how the data can be used to determine recency.  \n",
    "\n",
    "* Frequency - A brief paragraph explaining your ideas on how the data can be used to determine frequency.\n",
    "\n",
    "* Monetary Value - A brief paragraph explaining your ideas on how the data can be used to determine monetary value.\n",
    "\n",
    "* Synthesis - A brief paragraph explaining your ideas on how to synthesize the 3 dimensions of recency, frequency, and monetary value into a customer value for each customer and how to determine who the best customers are.\n",
    "\n",
    "\n",
    "\n",
    "Put the title and all 4 paragraphs in a single markdown cell.\n",
    "\n",
    "Note that you do not write code for this, only english language descriptions of your ideas.\n",
    "\n"
   ]
  },
  {
   "cell_type": "markdown",
   "id": "67dd986f",
   "metadata": {},
   "source": [
    "# MVP Customer Competition\n",
    "\n",
    "Recency: For recency of purchase, I reccommend using the sales table to get the recent sale date for the last 3 years and customers table to get the customer information. While recent customers are more valuable (Customers who purchased within the last month), customers who last purchased months and years ago should also be identified and targeted with different marketing strategy to bring them back as customers. \n",
    "\n",
    "Frequency: For frequency of purchase, I recommend using the sales table to get the mean difference, min, max, and stdv between each consecutive sale_date for the customers from the customers table. I also recommend finding the difference between the recent two sale_date. The data will let us know who our frequent weekly customers are, monthly customers, customers who purchase in spurts, customers who were weekly customers but stopped purchasing, and monthly customers who stopped purchasing. \n",
    "Recent weekly and monthly customers are ranked the highest, customers who purchase in spurts are second, random purchasing history third,  weekly customers who stopped purchasing fourth, monthly customers who stopped purchasing last. \n",
    "\n",
    "Monetary Value: For monetary value, I recommend using the sales table to find the customer's total lifetime purchase amount and total purchase amount by month. for their total lifetime and monthly purchase total, I also recommend finding the standard deviation, average, variance, and expected or projected future purchase amount for the customers.  \n",
    "\n",
    "Synthesis: I recommend first splitting our customers into two groups: Group 1 will consist of customers who have purchased in the last three months. Group 2 will consist of customers who have last purchased more than 3 months ago and while this group will rank lower than Group 1, this group will be customers we can possible bring back through targeted marketing. Both Group 1 and Group 2 will have customers assigned into tiers by their monthly average total_amount of sales during their purchase history.  \n",
    "Tier A: top 10%\n",
    "Tier B: top 20% <x <10%\n",
    "Tier C: top 30% <x <20%\n",
    "Tier D: top 40% <x <30%\n",
    "Tier F: Bottom 50%\n",
    "\n",
    "Within these tiers, I recommend further breaking down into two sub tiers. Since our business is for fresh and non-frozen meals, we will value frequent daily/weekly customers higher than monthly customers. Daily/weekly customers give our business more touch points and allow us to experiment with secondary products and different meals at a higher rate for customers with higher frequency of purchase.  \n"
   ]
  }
 ],
 "metadata": {
  "kernelspec": {
   "display_name": "Python 3 (ipykernel)",
   "language": "python",
   "name": "python3"
  },
  "language_info": {
   "codemirror_mode": {
    "name": "ipython",
    "version": 3
   },
   "file_extension": ".py",
   "mimetype": "text/x-python",
   "name": "python",
   "nbconvert_exporter": "python",
   "pygments_lexer": "ipython3",
   "version": "3.9.7"
  }
 },
 "nbformat": 4,
 "nbformat_minor": 5
}
